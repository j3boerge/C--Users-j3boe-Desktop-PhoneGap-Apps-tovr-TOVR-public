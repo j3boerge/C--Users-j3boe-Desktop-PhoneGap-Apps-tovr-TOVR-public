{
  "nbformat": 4,
  "nbformat_minor": 0,
  "metadata": {
    "colab": {
      "name": "Finra-data.ipynb",
      "provenance": [],
      "collapsed_sections": [],
      "authorship_tag": "ABX9TyM4dZZ0IQB146TqNBZ1Q2cy",
      "include_colab_link": true
    },
    "kernelspec": {
      "name": "python3",
      "display_name": "Python 3"
    },
    "language_info": {
      "name": "python"
    }
  },
  "cells": [
    {
      "cell_type": "markdown",
      "metadata": {
        "id": "view-in-github",
        "colab_type": "text"
      },
      "source": [
        "<a href=\"https://colab.research.google.com/github/j3boerge/C--Users-j3boe-Desktop-PhoneGap-Apps-tovr-TOVR-public/blob/master/Finra_data.ipynb\" target=\"_parent\"><img src=\"https://colab.research.google.com/assets/colab-badge.svg\" alt=\"Open In Colab\"/></a>"
      ]
    },
    {
      "cell_type": "code",
      "metadata": {
        "id": "rfLfMuW9jY1J"
      },
      "source": [
        "import requests\n",
        "import datetime\n",
        "import os"
      ],
      "execution_count": null,
      "outputs": []
    },
    {
      "cell_type": "markdown",
      "metadata": {
        "id": "X9-J7w94BhIp"
      },
      "source": [
        "# New Section"
      ]
    },
    {
      "cell_type": "code",
      "metadata": {
        "id": "a451ndUnjcwZ"
      },
      "source": [
        "CNMSurl = \"http://regsho.finra.org/CNMSshvol\"\n",
        "FNSQurl = \"http://regsho.finra.org/FNSQshvol\"\n",
        "FNYXurl = \"http://regsho.finra.org/FNYXshvol\""
      ],
      "execution_count": null,
      "outputs": []
    },
    {
      "cell_type": "code",
      "metadata": {
        "id": "9vSttGmWjgWw"
      },
      "source": [
        "#Make sure to set FNSQ_file_path to the correct file path for your system\n",
        "\n",
        "#FNSQ DOWNLOAD Download Nasdaq files from the start of the data (1-1-2010, to the start of the Consolidated Files 8-1-2018)\n",
        "\n",
        "start_date = datetime.date(2009, 12, 1)\n",
        "end_date = datetime.date(2018, 7, 31)\n",
        "delta = datetime.timedelta(days=1)\n",
        "FNSQ_file_path = '/content/sample_data/FNYX/'\n",
        "CNMSurl = \"http://regsho.finra.org/CNMSshvol\"\n",
        "FNSQurl = \"http://regsho.finra.org/FNSQshvol\"\n",
        "FNYXurl = \"http://regsho.finra.org/FNYXshvol\"\n",
        "while start_date <= end_date:\n",
        "    new_date = start_date.strftime(\"%Y%m%d\")\n",
        "    current_url = FNSQurl+new_date+\".txt\"\n",
        "    print(current_url)\n",
        "    r = requests.get(current_url)\n",
        "    if r.status_code == 200:\n",
        "        if os.path.exists(FNSQ_file_path+new_date+'.txt'):\n",
        "            print(\"exists\")\n",
        "            start_date += delta\n",
        "            continue\n",
        "        else:\n",
        "            with open(FNSQ_file_path+new_date+'.txt', 'wb') as f:\n",
        "                f.write(r.content)\n",
        "    start_date += delta"
      ],
      "execution_count": null,
      "outputs": []
    },
    {
      "cell_type": "code",
      "metadata": {
        "id": "2Y0M3ntkIAH2"
      },
      "source": [
        "\n",
        "#Make sure to set FNYX_file_path to the correct file path for your system\n",
        "\n",
        "#FNYX DOWNLOAD Download NYSE files from the start of the data (1-1-2010, to the start of the Consolidated Files 8-1-2018)\n",
        "\n",
        "start_date = datetime.date(2009, 12, 1)\n",
        "end_date = datetime.date(2018, 7, 31)\n",
        "delta = datetime.timedelta(days=1)\n",
        "FNYX_file_path = '/content/sample_data/FNYX/'\n",
        "\n",
        "while start_date <= end_date:\n",
        "    new_date = start_date.strftime(\"%Y%m%d\")\n",
        "    current_url = FNYXurl+new_date+\".txt\"\n",
        "    print(current_url)\n",
        "    r = requests.get(current_url)\n",
        "    if r.status_code == 200:\n",
        "        if os.path.exists(FNYX_file_path+new_date+'.txt'):\n",
        "            print(\"exists\")\n",
        "            start_date += delta\n",
        "            continue\n",
        "        else:\n",
        "            with open(FNYX_file_path+new_date+'.txt', 'wb') as f:\n",
        "                f.write(r.content)\n",
        "    start_date += delta"
      ],
      "execution_count": null,
      "outputs": []
    },
    {
      "cell_type": "code",
      "metadata": {
        "id": "iX5gwqrRELX6"
      },
      "source": [
        "import csv\n",
        "import datetime\n",
        "import pandas as pd\n",
        "import os\n",
        "import glob"
      ],
      "execution_count": 8,
      "outputs": []
    },
    {
      "cell_type": "code",
      "metadata": {
        "colab": {
          "base_uri": "https://localhost:8080/",
          "height": 357
        },
        "id": "BcJMqjMrENF5",
        "outputId": "044db893-be65-4c1c-8ead-5e1ab3eda300"
      },
      "source": [
        "# get data file names\n",
        "path =r'/content/sample_data/'\n",
        "filenames = glob.glob(path + \"/*.txt\")\n",
        "\n",
        "dfs = []\n",
        "for filename in filenames:\n",
        "    dfs.append(pd.read_csv(filename, delimiter = \"|\"))\n",
        "\n",
        "# Concatenate all data into one DataFrame\n",
        "big_frame = pd.concat(dfs, ignore_index=True, sort=True)"
      ],
      "execution_count": 11,
      "outputs": [
        {
          "output_type": "error",
          "ename": "ValueError",
          "evalue": "ignored",
          "traceback": [
            "\u001b[0;31m---------------------------------------------------------------------------\u001b[0m",
            "\u001b[0;31mValueError\u001b[0m                                Traceback (most recent call last)",
            "\u001b[0;32m<ipython-input-11-2e4a80efe94d>\u001b[0m in \u001b[0;36m<module>\u001b[0;34m()\u001b[0m\n\u001b[1;32m      8\u001b[0m \u001b[0;34m\u001b[0m\u001b[0m\n\u001b[1;32m      9\u001b[0m \u001b[0;31m# Concatenate all data into one DataFrame\u001b[0m\u001b[0;34m\u001b[0m\u001b[0;34m\u001b[0m\u001b[0;34m\u001b[0m\u001b[0m\n\u001b[0;32m---> 10\u001b[0;31m \u001b[0mbig_frame\u001b[0m \u001b[0;34m=\u001b[0m \u001b[0mpd\u001b[0m\u001b[0;34m.\u001b[0m\u001b[0mconcat\u001b[0m\u001b[0;34m(\u001b[0m\u001b[0mdfs\u001b[0m\u001b[0;34m,\u001b[0m \u001b[0mignore_index\u001b[0m\u001b[0;34m=\u001b[0m\u001b[0;32mTrue\u001b[0m\u001b[0;34m,\u001b[0m \u001b[0msort\u001b[0m\u001b[0;34m=\u001b[0m\u001b[0;32mTrue\u001b[0m\u001b[0;34m)\u001b[0m\u001b[0;34m\u001b[0m\u001b[0;34m\u001b[0m\u001b[0m\n\u001b[0m",
            "\u001b[0;32m/usr/local/lib/python3.7/dist-packages/pandas/core/reshape/concat.py\u001b[0m in \u001b[0;36mconcat\u001b[0;34m(objs, axis, join, ignore_index, keys, levels, names, verify_integrity, sort, copy)\u001b[0m\n\u001b[1;32m    282\u001b[0m         \u001b[0mverify_integrity\u001b[0m\u001b[0;34m=\u001b[0m\u001b[0mverify_integrity\u001b[0m\u001b[0;34m,\u001b[0m\u001b[0;34m\u001b[0m\u001b[0;34m\u001b[0m\u001b[0m\n\u001b[1;32m    283\u001b[0m         \u001b[0mcopy\u001b[0m\u001b[0;34m=\u001b[0m\u001b[0mcopy\u001b[0m\u001b[0;34m,\u001b[0m\u001b[0;34m\u001b[0m\u001b[0;34m\u001b[0m\u001b[0m\n\u001b[0;32m--> 284\u001b[0;31m         \u001b[0msort\u001b[0m\u001b[0;34m=\u001b[0m\u001b[0msort\u001b[0m\u001b[0;34m,\u001b[0m\u001b[0;34m\u001b[0m\u001b[0;34m\u001b[0m\u001b[0m\n\u001b[0m\u001b[1;32m    285\u001b[0m     )\n\u001b[1;32m    286\u001b[0m \u001b[0;34m\u001b[0m\u001b[0m\n",
            "\u001b[0;32m/usr/local/lib/python3.7/dist-packages/pandas/core/reshape/concat.py\u001b[0m in \u001b[0;36m__init__\u001b[0;34m(self, objs, axis, join, keys, levels, names, ignore_index, verify_integrity, copy, sort)\u001b[0m\n\u001b[1;32m    329\u001b[0m \u001b[0;34m\u001b[0m\u001b[0m\n\u001b[1;32m    330\u001b[0m         \u001b[0;32mif\u001b[0m \u001b[0mlen\u001b[0m\u001b[0;34m(\u001b[0m\u001b[0mobjs\u001b[0m\u001b[0;34m)\u001b[0m \u001b[0;34m==\u001b[0m \u001b[0;36m0\u001b[0m\u001b[0;34m:\u001b[0m\u001b[0;34m\u001b[0m\u001b[0;34m\u001b[0m\u001b[0m\n\u001b[0;32m--> 331\u001b[0;31m             \u001b[0;32mraise\u001b[0m \u001b[0mValueError\u001b[0m\u001b[0;34m(\u001b[0m\u001b[0;34m\"No objects to concatenate\"\u001b[0m\u001b[0;34m)\u001b[0m\u001b[0;34m\u001b[0m\u001b[0;34m\u001b[0m\u001b[0m\n\u001b[0m\u001b[1;32m    332\u001b[0m \u001b[0;34m\u001b[0m\u001b[0m\n\u001b[1;32m    333\u001b[0m         \u001b[0;32mif\u001b[0m \u001b[0mkeys\u001b[0m \u001b[0;32mis\u001b[0m \u001b[0;32mNone\u001b[0m\u001b[0;34m:\u001b[0m\u001b[0;34m\u001b[0m\u001b[0;34m\u001b[0m\u001b[0m\n",
            "\u001b[0;31mValueError\u001b[0m: No objects to concatenate"
          ]
        }
      ]
    },
    {
      "cell_type": "code",
      "metadata": {
        "colab": {
          "base_uri": "https://localhost:8080/",
          "height": 163
        },
        "id": "sbhqxJoeEY_4",
        "outputId": "e46ad557-0154-46b5-edb5-19dc616876fb"
      },
      "source": [
        "big_frame = big_frame.set_index(['Symbol', 'Date'], drop=True)"
      ],
      "execution_count": 12,
      "outputs": [
        {
          "output_type": "error",
          "ename": "NameError",
          "evalue": "ignored",
          "traceback": [
            "\u001b[0;31m---------------------------------------------------------------------------\u001b[0m",
            "\u001b[0;31mNameError\u001b[0m                                 Traceback (most recent call last)",
            "\u001b[0;32m<ipython-input-12-d5830ff6d70c>\u001b[0m in \u001b[0;36m<module>\u001b[0;34m()\u001b[0m\n\u001b[0;32m----> 1\u001b[0;31m \u001b[0mbig_frame\u001b[0m \u001b[0;34m=\u001b[0m \u001b[0mbig_frame\u001b[0m\u001b[0;34m.\u001b[0m\u001b[0mset_index\u001b[0m\u001b[0;34m(\u001b[0m\u001b[0;34m[\u001b[0m\u001b[0;34m'Symbol'\u001b[0m\u001b[0;34m,\u001b[0m \u001b[0;34m'Date'\u001b[0m\u001b[0;34m]\u001b[0m\u001b[0;34m,\u001b[0m \u001b[0mdrop\u001b[0m\u001b[0;34m=\u001b[0m\u001b[0;32mTrue\u001b[0m\u001b[0;34m)\u001b[0m\u001b[0;34m\u001b[0m\u001b[0;34m\u001b[0m\u001b[0m\n\u001b[0m",
            "\u001b[0;31mNameError\u001b[0m: name 'big_frame' is not defined"
          ]
        }
      ]
    },
    {
      "cell_type": "code",
      "metadata": {
        "id": "1AQh9TdmEZi2"
      },
      "source": [
        "big_frame=big_frame.sort_values(by=['Symbol', 'Date'])"
      ],
      "execution_count": null,
      "outputs": []
    },
    {
      "cell_type": "code",
      "metadata": {
        "id": "U2e_cX4OEcW9"
      },
      "source": [
        "big_frame = big_frame.drop(columns=['Market', 'ShortExemptVolume'])"
      ],
      "execution_count": null,
      "outputs": []
    },
    {
      "cell_type": "code",
      "metadata": {
        "colab": {
          "base_uri": "https://localhost:8080/",
          "height": 163
        },
        "id": "3-uOUQ6bEdmt",
        "outputId": "2a20c334-4700-49d2-f690-0543eccd06bc"
      },
      "source": [
        "big_frame.head()"
      ],
      "execution_count": 9,
      "outputs": [
        {
          "output_type": "error",
          "ename": "NameError",
          "evalue": "ignored",
          "traceback": [
            "\u001b[0;31m---------------------------------------------------------------------------\u001b[0m",
            "\u001b[0;31mNameError\u001b[0m                                 Traceback (most recent call last)",
            "\u001b[0;32m<ipython-input-9-7a6bfe6573c9>\u001b[0m in \u001b[0;36m<module>\u001b[0;34m()\u001b[0m\n\u001b[0;32m----> 1\u001b[0;31m \u001b[0mbig_frame\u001b[0m\u001b[0;34m.\u001b[0m\u001b[0mhead\u001b[0m\u001b[0;34m(\u001b[0m\u001b[0;34m)\u001b[0m\u001b[0;34m\u001b[0m\u001b[0;34m\u001b[0m\u001b[0m\n\u001b[0m",
            "\u001b[0;31mNameError\u001b[0m: name 'big_frame' is not defined"
          ]
        }
      ]
    }
  ]
}